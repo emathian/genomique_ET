{
 "cells": [
  {
   "cell_type": "markdown",
   "metadata": {},
   "source": [
    "# Librairies"
   ]
  },
  {
   "cell_type": "code",
   "execution_count": 1,
   "metadata": {},
   "outputs": [],
   "source": [
    "from __future__ import division\n",
    "import random\n",
    "import copy as cp\n",
    "import pandas as pd\n",
    "import bonne_alphabet as ba"
   ]
  },
  {
   "cell_type": "markdown",
   "metadata": {},
   "source": [
    "# Étude comparative entre Melanogaster et Pseudoobscura\n",
    "## Chromosome III R"
   ]
  },
  {
   "cell_type": "code",
   "execution_count": 2,
   "metadata": {},
   "outputs": [],
   "source": [
    "chrIIIR= \"aebcfdg\""
   ]
  },
  {
   "cell_type": "markdown",
   "metadata": {},
   "source": [
    "### 1 - Nous convertissons la séquence de lettre en liste d'entier"
   ]
  },
  {
   "cell_type": "code",
   "execution_count": 3,
   "metadata": {},
   "outputs": [
    {
     "data": {
      "text/plain": [
       "[97, 101, 98, 99, 102, 100, 103]"
      ]
     },
     "execution_count": 3,
     "metadata": {},
     "output_type": "execute_result"
    }
   ],
   "source": [
    "LIIIR = ba.ConvertAsci(chrIIIR)\n",
    "LIIIR"
   ]
  },
  {
   "cell_type": "markdown",
   "metadata": {},
   "source": [
    "###  2 - Calcul des lettres adjacentes"
   ]
  },
  {
   "cell_type": "code",
   "execution_count": 4,
   "metadata": {},
   "outputs": [
    {
     "data": {
      "text/plain": [
       "[[2, 3]]"
      ]
     },
     "execution_count": 4,
     "metadata": {},
     "output_type": "execute_result"
    }
   ],
   "source": [
    "ba.adjacent(LIIIR)"
   ]
  },
  {
   "cell_type": "markdown",
   "metadata": {},
   "source": [
    "Seulement les lettres d'indices deux et trois sont adjacentes (98 et 99).\n",
    "\n",
    "### 3 - Calcul du score initial"
   ]
  },
  {
   "cell_type": "code",
   "execution_count": 5,
   "metadata": {},
   "outputs": [],
   "source": [
    "Score_init = ba.score(LIIIR)"
   ]
  },
  {
   "cell_type": "code",
   "execution_count": 6,
   "metadata": {},
   "outputs": [
    {
     "data": {
      "text/plain": [
       "3"
      ]
     },
     "execution_count": 6,
     "metadata": {},
     "output_type": "execute_result"
    }
   ],
   "source": [
    "Score_init"
   ]
  },
  {
   "cell_type": "markdown",
   "metadata": {},
   "source": [
    "Le score est de trois car deux lettres sont adjacentes (+1), de plus la première lettre (+1) et la dernière sont bien palcées (+1)."
   ]
  },
  {
   "cell_type": "markdown",
   "metadata": {},
   "source": [
    "### 4 - Calcul de l'indice de la dernière bien placée"
   ]
  },
  {
   "cell_type": "code",
   "execution_count": 7,
   "metadata": {},
   "outputs": [
    {
     "data": {
      "text/plain": [
       "0"
      ]
     },
     "execution_count": 7,
     "metadata": {},
     "output_type": "execute_result"
    }
   ],
   "source": [
    "ba.end_ord(LIIIR)"
   ]
  },
  {
   "cell_type": "markdown",
   "metadata": {},
   "source": [
    "Seule la lettre 'A' est bien placée.\n",
    "\n",
    "###  5 - Calcul du nombre d'inversions : version 1 -> Rapide mais pas toujours optimale"
   ]
  },
  {
   "cell_type": "code",
   "execution_count": 8,
   "metadata": {},
   "outputs": [
    {
     "data": {
      "text/plain": [
       "4"
      ]
     },
     "execution_count": 8,
     "metadata": {},
     "output_type": "execute_result"
    }
   ],
   "source": [
    "d_obs1 = ba.nb_inversion(LIIIR)\n",
    "d_obs1"
   ]
  },
  {
   "cell_type": "markdown",
   "metadata": {},
   "source": [
    "Le chromosome LIIIR contient 4 inversions par rapport au chromosome de référence. \n",
    "\n",
    "**Remarque :**\n",
    "\n",
    "-  Le chromosome de référence a  pour séquence ABCDEFG.\n",
    "-  `nb_inversion` appelle la première version de la fonction `permutation`, de plus `permutation` appelle la fonction `inversion`.\n"
   ]
  },
  {
   "cell_type": "markdown",
   "metadata": {},
   "source": [
    "### 6 - Calcul du nombre d'inversions : version 2 -> Le temps de calcul peut être long, **cette version n'est adaptée qu'aux séquences courtes (<13)**."
   ]
  },
  {
   "cell_type": "code",
   "execution_count": 9,
   "metadata": {},
   "outputs": [
    {
     "data": {
      "text/plain": [
       "3"
      ]
     },
     "execution_count": 9,
     "metadata": {},
     "output_type": "execute_result"
    }
   ],
   "source": [
    "d_obs2 = ba.nb_inversion(LIIIR, v2= True)\n",
    "d_obs2"
   ]
  },
  {
   "cell_type": "markdown",
   "metadata": {},
   "source": [
    "**Remarque :**\n",
    "Le résultat obtenu grâce à la version 1 (4) est supérieur à celui de la deuxième version (3). Ainsi la première version n'est pas optimale, mais permet un temps de calcul bien moindre. Ceci permet d'appliquer le processus sur des séquences longues."
   ]
  },
  {
   "cell_type": "markdown",
   "metadata": {},
   "source": [
    "### 7 - Simulations"
   ]
  },
  {
   "cell_type": "code",
   "execution_count": 10,
   "metadata": {},
   "outputs": [],
   "source": [
    "SA =  ba.scenario_aleatoire(LIIIR, 20, False)"
   ]
  },
  {
   "cell_type": "markdown",
   "metadata": {},
   "source": [
    "`scenario_aleatoire`  prend en argument la séquence d'entiers, le nombre de simulations. L'utilisateur peut également écrire les résultats dans un fichier, dans ce cas il appellera la fonction de la façon suivante :\n",
    "`ba.scenario_aleatoire(LIIIR, 20, True, 'my_results.txt')`"
   ]
  },
  {
   "cell_type": "code",
   "execution_count": 11,
   "metadata": {},
   "outputs": [
    {
     "data": {
      "text/plain": [
       "([4, 3, 2, 3, 3, 4, 4, 4, 6, 3, 4, 4, 5, 5, 2, 4, 4, 3, 5, 5], 3.85)"
      ]
     },
     "execution_count": 11,
     "metadata": {},
     "output_type": "execute_result"
    }
   ],
   "source": [
    "SA "
   ]
  },
  {
   "cell_type": "markdown",
   "metadata": {},
   "source": [
    "`scenario_aleatoire` retourne :\n",
    "une liste du nombre d'inversions obtenu à chaque simulation, ainsi que la distance moyenne obtenue. La distance correspond au nombre d'inversions moyen.\n"
   ]
  },
  {
   "cell_type": "markdown",
   "metadata": {},
   "source": [
    "### 8 - Calcul de la probabilité d'observer un tel nombre d'inversions sous l'hypothèse du hasard "
   ]
  },
  {
   "cell_type": "code",
   "execution_count": 12,
   "metadata": {},
   "outputs": [
    {
     "data": {
      "text/plain": [
       "0.1"
      ]
     },
     "execution_count": 12,
     "metadata": {},
     "output_type": "execute_result"
    }
   ],
   "source": [
    "ba.stat_parente(SA[0], d_obs2)"
   ]
  },
  {
   "cell_type": "markdown",
   "metadata": {},
   "source": [
    "**Conclusion**\n",
    "La probabilité d'observer trois inversions pour une séquence de longueur 7, est de seulement 0.05. Nous concluons que pour le chromosome III R les deux espèces sont apparentées."
   ]
  }
 ],
 "metadata": {
  "kernelspec": {
   "display_name": "Python 2",
   "language": "python",
   "name": "python2"
  },
  "language_info": {
   "codemirror_mode": {
    "name": "ipython",
    "version": 2
   },
   "file_extension": ".py",
   "mimetype": "text/x-python",
   "name": "python",
   "nbconvert_exporter": "python",
   "pygments_lexer": "ipython2",
   "version": "2.7.15"
  }
 },
 "nbformat": 4,
 "nbformat_minor": 2
}

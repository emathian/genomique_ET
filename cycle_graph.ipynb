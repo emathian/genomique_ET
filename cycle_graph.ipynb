{
 "cells": [
  {
   "cell_type": "markdown",
   "metadata": {},
   "source": [
    "#  Librairies "
   ]
  },
  {
   "cell_type": "code",
   "execution_count": 101,
   "metadata": {},
   "outputs": [],
   "source": [
    "import pandas as pd\n",
    "import numpy as np\n",
    "import matplotlib.pyplot as plt\n",
    "import seaborn as sns\n",
    "from sklearn.metrics.pairwise import pairwise_distances\n",
    "import networkx as nx\n",
    "import itertools\n",
    "from networkx.drawing.nx_agraph import graphviz_layout\n",
    "from __future__ import division \n",
    "import collections\n",
    "from networkx.algorithms.richclub import rich_club_coefficient \n",
    "from operator import itemgetter\n",
    "from community import community_louvain\n",
    "from networkx.algorithms import community\n",
    "from itertools import count\n",
    "import community\n",
    "from networkx.drawing.nx_pydot import write_dot\n",
    "from IPython.display import Image"
   ]
  },
  {
   "cell_type": "markdown",
   "metadata": {},
   "source": [
    "# Exemple jouet"
   ]
  },
  {
   "cell_type": "markdown",
   "metadata": {},
   "source": [
    "Afin de faciliter l'écriture des algorithmes et pour vérifier leur pertinence nous avons généré un jeu de données, pour le quel la recherche du nombre d'inversion est triviale. Cet exemple peut être résumé tel que : \n",
    "* Organisme A : (+)A  - (+)B - (+)C - (+)D - (+)E\n",
    "* Organisme B : (-)D  - (-)C - (+)A - (+)B - (+)E  \n",
    "\n",
    "Le signe (+) implique que la position du début du gène est inféfieure à celle de la fin du gène, et réciproquement pour le signe (-).\n",
    "\n",
    "## Construction de la matrice"
   ]
  },
  {
   "cell_type": "code",
   "execution_count": 5,
   "metadata": {},
   "outputs": [
    {
     "data": {
      "text/html": [
       "<div>\n",
       "<style scoped>\n",
       "    .dataframe tbody tr th:only-of-type {\n",
       "        vertical-align: middle;\n",
       "    }\n",
       "\n",
       "    .dataframe tbody tr th {\n",
       "        vertical-align: top;\n",
       "    }\n",
       "\n",
       "    .dataframe thead th {\n",
       "        text-align: right;\n",
       "    }\n",
       "</style>\n",
       "<table border=\"1\" class=\"dataframe\">\n",
       "  <thead>\n",
       "    <tr style=\"text-align: right;\">\n",
       "      <th></th>\n",
       "      <th>ID</th>\n",
       "      <th>QAStart</th>\n",
       "      <th>QEnd</th>\n",
       "      <th>SAStart</th>\n",
       "      <th>SEnd</th>\n",
       "    </tr>\n",
       "  </thead>\n",
       "  <tbody>\n",
       "    <tr>\n",
       "      <th>0</th>\n",
       "      <td>A</td>\n",
       "      <td>0</td>\n",
       "      <td>1</td>\n",
       "      <td>4</td>\n",
       "      <td>5</td>\n",
       "    </tr>\n",
       "    <tr>\n",
       "      <th>1</th>\n",
       "      <td>B</td>\n",
       "      <td>2</td>\n",
       "      <td>3</td>\n",
       "      <td>6</td>\n",
       "      <td>7</td>\n",
       "    </tr>\n",
       "    <tr>\n",
       "      <th>2</th>\n",
       "      <td>C</td>\n",
       "      <td>4</td>\n",
       "      <td>5</td>\n",
       "      <td>3</td>\n",
       "      <td>2</td>\n",
       "    </tr>\n",
       "    <tr>\n",
       "      <th>3</th>\n",
       "      <td>D</td>\n",
       "      <td>6</td>\n",
       "      <td>7</td>\n",
       "      <td>1</td>\n",
       "      <td>0</td>\n",
       "    </tr>\n",
       "    <tr>\n",
       "      <th>4</th>\n",
       "      <td>E</td>\n",
       "      <td>8</td>\n",
       "      <td>9</td>\n",
       "      <td>8</td>\n",
       "      <td>9</td>\n",
       "    </tr>\n",
       "  </tbody>\n",
       "</table>\n",
       "</div>"
      ],
      "text/plain": [
       "  ID  QAStart  QEnd  SAStart  SEnd\n",
       "0  A        0     1        4     5\n",
       "1  B        2     3        6     7\n",
       "2  C        4     5        3     2\n",
       "3  D        6     7        1     0\n",
       "4  E        8     9        8     9"
      ]
     },
     "execution_count": 5,
     "metadata": {},
     "output_type": "execute_result"
    }
   ],
   "source": [
    "d_jouet = {'ID': [\"A\", \"B\", \"C\",\"D\",\"E\"], 'QAStart': [0, 2,4,6, 8],'QEnd': [1, 3,5,7,9] ,'SAStart': [4,6,3,1, 8], 'SEnd': [5, 7,2,0, 9] }\n",
    "df_jouet=  pd.DataFrame(data=d_jouet)\n",
    "df_jouet"
   ]
  },
  {
   "cell_type": "markdown",
   "metadata": {},
   "source": [
    "## Recherche des arc"
   ]
  },
  {
   "cell_type": "markdown",
   "metadata": {},
   "source": [
    "### Recherche des arcs pour l'organisme de référence (A)"
   ]
  },
  {
   "cell_type": "code",
   "execution_count": 6,
   "metadata": {},
   "outputs": [],
   "source": [
    "def find_edges_orga_ref(S,E):\n",
    "    \"\"\"Cette fonction permet de chercher les arcs pour sur le chromosime de l'oganisme de référence. Chaque\n",
    "    gène a deux voisins. Ainsi pour chaque gène, la fonction `find_edges_orga_ref` calcule la distance entre la fin \n",
    "    du gène courant et le début de tous les autres gènes. Le voisin du gène courant est finalement celui dont la\n",
    "    distance est minimal. Sachant que nous chromosome circulaire le début du premier gène est nécessairement voisin\n",
    "    de la fin du dernier, ceci constitue donc une arc.\"\"\"\n",
    "   \n",
    "    # Initialisation\n",
    "    l = [] # Liste des arcs\n",
    "    max_l  = max(E)\n",
    "    min_l = min(S)\n",
    "\n",
    "    for i in range(len(E)): # Pour chaque position de fin \n",
    "        D = []  \n",
    "        dist =[]\n",
    "        for j in range(len(S)): # Pour chaque début\n",
    "            if  E.index(E[i])!= S.index(S[j])  : # Si la position de début et de fin ne correspondent pas au même gène\n",
    "                if E[i] != max_l and S[j] != min_l : # S'il ne s'agit d'une des extrémités sur un plan linéaire\n",
    "                    d =abs( E[i]- S[j])  # Calcul de la distance \n",
    "                    D.append([d, E[i], S[j] , 'E' ,  'S' ])   # Mémorisation de la dstance et des indices\n",
    "                    dist.append(d) \n",
    "        \n",
    "                else : # S'il s'agit d'une des extrémité sur un plan linéaie\n",
    "                    p1 = list(df_jouet[\"ID\"][df_jouet[\"QEnd\"]==max_l] )[0]\n",
    "                    p1 = \"E\"+str(p1)\n",
    "                    p2 = list(df_jouet[\"ID\"][df_jouet['QAStart']==min_l] )[0]\n",
    "                    p2 = \"S\"+str(p2)\n",
    "                    if (p1, p2) not in l and (p2, p1) not in l: \n",
    "                        l.append((p1 ,p2) ) # Ajout de l'arc correspondante entre la min et max           \n",
    "                    \n",
    "            else : # Si l'indice i et j correspondent au même \n",
    "                D.append(['NA', 'NA', 'NA', \"NA\", 'NA']) # Ajour d'une liste \"vide\"\n",
    "                dist.append('NA')\n",
    "   \n",
    "        minD_ID = D[dist.index(min(dist))]  # Calcul de la distance minimall \n",
    "        if 'NA' not in minD_ID : \n",
    "            p1 = list(df_jouet[\"ID\"][df_jouet[\"QEnd\"]==minD_ID[1]])[0]\n",
    "            p2 = list(df_jouet[\"ID\"][df_jouet[\"QAStart\"]== minD_ID[2]])[0]\n",
    "            if p1 != p2 :\n",
    "                p1 = \"E\"+str(p1)\n",
    "                p2 = \"S\"+str(p2)\n",
    "                if  (p1, p2) not in l and (p2, p1) not in l:\n",
    "                    l.append((p1 ,p2) ) # Ajout de l'arc corresponsdante  \n",
    "    return l"
   ]
  },
  {
   "cell_type": "markdown",
   "metadata": {},
   "source": [
    "#### Exemple :"
   ]
  },
  {
   "cell_type": "code",
   "execution_count": 7,
   "metadata": {},
   "outputs": [
    {
     "name": "stdout",
     "output_type": "stream",
     "text": [
      "[('EA', 'SB'), ('EE', 'SA'), ('EB', 'SC'), ('EC', 'SD'), ('ED', 'SE')]\n"
     ]
    }
   ],
   "source": [
    "EDGES1 = find_edges_orga_ref(list(df_jouet[\"QAStart\"]), list(df_jouet[\"QEnd\"]))\n",
    "print(EDGES1)"
   ]
  },
  {
   "cell_type": "markdown",
   "metadata": {},
   "source": [
    "#### Remarque :\n",
    "Cette fonction aurait pu être simplifiée. En effet nous aurions pu trier la matrices des position pour l'orgnanisme \n",
    "de référence est associé chaque fin de gène au début du gène de la ligne suivante. La position de  début sur la première ligne \n",
    "aurait été associée à la position de fin sur la dernière ligne."
   ]
  },
  {
   "cell_type": "markdown",
   "metadata": {},
   "source": [
    "### Recherche des arcs pour l'organisme d'intérêt (B)"
   ]
  },
  {
   "cell_type": "code",
   "execution_count": 10,
   "metadata": {},
   "outputs": [],
   "source": [
    "def find_edges(S,E):\n",
    "    \"\"\"Recherche des arcs dans l'organisme d'intérêt. Nous avons choisi de rechercher pour chaque extrémité (SStart_i ou SEnd_i)\n",
    "    quel est son voisin le plus proche, par recherche de la distance minimale. Cette méthode nous permet d'obtenir une liste\n",
    "    des arcs entre les extrémité (Start -> Start) ou (End -> End) ou (Start -> End). Aucun aucune arc ne relier les extrémités \n",
    "    d'un même gène. Le position miniamle est nécessairement reliée à la position maximale étant donné que nous étudions\n",
    "    des génomes circulaires.\"\"\"\n",
    "    \n",
    "    l = [] # Initialisation de la liste d'arcs\n",
    "    t= S+E  # Ajout de toutes les positions Start et End \n",
    "    max_l  = max(t) # Recherche la \"dernière extrémité\"\n",
    "    max_lID  = t.index(max_l) # Recupération de l'indice de la \"denière\" position\n",
    "    \n",
    "    min_l = min(t)  # Recherche la \"première\" extrémité\n",
    "    min_lID  = t.index(min_l)# Recupération de l'indice de la \"première\" position\n",
    "    \n",
    "     # Attribution  d'un statut \"Start=S\" ou \"End=E\" à chaque position\n",
    "    if max_lID < len(t)/2 :\n",
    "        state_maxl = \"S\"\n",
    "    else :\n",
    "        state_maxl = \"E\"\n",
    "    if min_lID < len(t)/2 :\n",
    "        state_minl = \"S\"\n",
    "    else :\n",
    "        state_minl = \"E\"   \n",
    "    T = []\n",
    "    for i in range(len(t)):\n",
    "        if i < len(t)/2 :\n",
    "            T.append([t[i],'S'])\n",
    "        else :\n",
    "            T.append([t[i],'E'])\n",
    "            \n",
    "    for i in range(len(t)): # Pour chaque élément de t\n",
    "        D = []  \n",
    "        dist =[]\n",
    "        for j in range(len(t)): # Pour chaque élément de t \n",
    "            if t.index(t[i]) + len(t)/2!= t.index(t[j]) and t.index(t[i])!= t.index(t[j]) : # Si les indices indices i et j ne se réfèrent pas au même gène\n",
    "                if t[i] != max_l and t[i] != min_l and t[j] != max_l and t[j] != min_l : # S'il ne s'agit des extrémités \n",
    "                    d =abs( t[j]- t[i]) # Calcul de la distance\n",
    "                    D.append([d, t[j], t[i] ,T[j][1] ,  T[i][1] ])  \n",
    "                    dist.append(d)      \n",
    "                else : # Si au moins l'un des indices se refère à une extrémité\n",
    "                    # On relie la position min et max, et en conservant l'information début ou fin\n",
    "                    if state_maxl ==\"E\" and state_minl == \"S\" :\n",
    "                        p1 = list(df_jouet[\"ID\"][df_jouet[\"SEnd\"]==max_l] )[0]\n",
    "                        p1 = \"E\"+str(p1)\n",
    "                        p2 = list(df_jouet[\"ID\"][df_jouet['SAStart']==min_l] )[0]\n",
    "                        p2 = \"S\"+str(p2)\n",
    "                        if (p1, p2) not in l and (p2, p1) not in l:\n",
    "                            l.append((p1 ,p2) )\n",
    "                    elif state_maxl ==\"S\" and state_minl == \"E\" :\n",
    "                        p1 = list(df_jouet[\"ID\"][df_jouet[\"SAStart\"]==max_l] )[0]\n",
    "                        p1 = \"S\"+str(p1)\n",
    "                        p2 = list(df_jouet[\"ID\"][df_jouet['SEnd']==min_l] )[0]\n",
    "                        p2 = \"E\"+str(p2)\n",
    "                        if (p1, p2) not in l and (p2, p1) not in l:\n",
    "                            l.append((p1 ,p2) )\n",
    "                            \n",
    "                    elif state_maxl ==\"S\" and state_minl == \"S\" :\n",
    "                        p1 = list(df_jouet[\"ID\"][df_jouet[\"SAStart\"]==max_l] )[0]\n",
    "                        p1 = \"S\"+str(P1)\n",
    "                        p2 = list(df_jouet[\"ID\"][df_jouet['SAStart']==min_l] )[0]\n",
    "                        p2 = \"S\"+str(P2)\n",
    "                        if  (p1, p2) not in l and (p2, p1) not in l:\n",
    "                            l.append((p1 ,p2) )             \n",
    "                    else :     \n",
    "                        p1 = list(df_jouet[\"ID\"][df_jouet[\"SEnd\"]==max_l] )[0]\n",
    "                        p1 = \"E\"+str(p1)\n",
    "                        p2 = list(df_jouet[\"ID\"][df_jouet['SEnd']==min_l] )[0]\n",
    "                        p2 = \"E\"+str(p2)\n",
    "                        if  (p1, p2) not in l and (p2, p1)not in l:\n",
    "                            l.append((p1 ,p2) )\n",
    "                      \n",
    "            else : # Si les indices i et j se refèrent au même gène \n",
    "                D.append(['NA', 'NA', 'NA', \"NA\", 'NA']) # On ajoute un élément \"vide\"\n",
    "                dist.append('NA')\n",
    "   \n",
    "        minD_ID = D[dist.index(min(dist))] # Recherche de la distance minimale\n",
    "  \n",
    "        # Ajout de l'arc se référant à la distance minimale en conservant l'information \"début\" ou \"fin\"\n",
    "        if 'NA' not in minD_ID :            \n",
    "            if  minD_ID[3] == 'E' and minD_ID[4] == 'S' :\n",
    "                p1 = list(df_jouet[\"ID\"][df_jouet[\"SEnd\"]==minD_ID[1]])[0]\n",
    "                p2 = list(df_jouet[\"ID\"][df_jouet[\"SAStart\"]== minD_ID[2]])[0]\n",
    "                if p1 != p2 :\n",
    "                    p1 = \"E\"+str(p1)\n",
    "                    p2 = \"S\"+str(p2)\n",
    "                    if  (p1, p2) not in l and (p2, p1) not in l:\n",
    "                        l.append((p1 ,p2) )\n",
    "            elif minD_ID[3] == 'S' and minD_ID[4] == 'E' :\n",
    "                p1 = list(df_jouet[\"ID\"][df_jouet[\"SAStart\"]==minD_ID[1]])[0]\n",
    "                p2 = list(df_jouet[\"ID\"][df_jouet[\"SEnd\"]== minD_ID[2]])[0]\n",
    "                if p1 != p2 :\n",
    "                    p1 = \"S\"+str(p1)\n",
    "                    p2 = \"E\"+str(p2)\n",
    "                    if  (p1, p2) not in l and (p2, p1) not in l:\n",
    "                        l.append((p1 ,p2) )\n",
    "            elif minD_ID[3] == 'S' and minD_ID[4] == 'S' :\n",
    "                p1 = list(df_jouet[\"ID\"][df_jouet[\"SAStart\"]==minD_ID[1]])[0]\n",
    "                p2 = list(df_jouet[\"ID\"][df_jouet[\"SAStart\"]== minD_ID[2]])[0]\n",
    "                if p1 != p2 :\n",
    "                    p1 = \"S\"+str(p1)\n",
    "                    p2 = \"S\"+str(p2)\n",
    "                    if  (p1, p2) not in l and (p2, p1) not in l:\n",
    "                        l.append((p1 ,p2) )\n",
    "            else :\n",
    "                p1 = list(df_jouet[\"ID\"][df_jouet[\"SEnd\"]==minD_ID[1]])[0]\n",
    "                p2 = list(df_jouet[\"ID\"][df_jouet[\"SEnd\"]== minD_ID[2]])[0]\n",
    "                if p1 != p2 :\n",
    "                    p1 = \"E\"+str(p1)\n",
    "                    p2 = \"E\"+str(p2)\n",
    "                    if  (p1, p2) not in l and (p2, p1) not in l:\n",
    "                        l.append((p1 ,p2) )\n",
    "\n",
    "        \n",
    "    return l"
   ]
  },
  {
   "cell_type": "markdown",
   "metadata": {},
   "source": [
    "#### Exemple"
   ]
  },
  {
   "cell_type": "code",
   "execution_count": 11,
   "metadata": {},
   "outputs": [
    {
     "name": "stdout",
     "output_type": "stream",
     "text": [
      "[('EE', 'ED'), ('SC', 'SA'), ('EA', 'SB'), ('EC', 'SD'), ('EB', 'SE')]\n"
     ]
    }
   ],
   "source": [
    "EDGES2 =find_edges(list(df_jouet[\"SAStart\"]), list(df_jouet[\"SEnd\"]) )\n",
    "print(EDGES2)"
   ]
  },
  {
   "cell_type": "markdown",
   "metadata": {},
   "source": [
    "#### Remarque :\n",
    "Une démarche plus simple aurait pu être proposé en triant les éléments de la matrice des positions pour l'organisme d'intérêt."
   ]
  },
  {
   "cell_type": "markdown",
   "metadata": {},
   "source": [
    "###  Réprésentation du graph du  jeu de données  jouet "
   ]
  },
  {
   "cell_type": "code",
   "execution_count": 9,
   "metadata": {},
   "outputs": [
    {
     "data": {
      "image/png": "[encoded data removed]",
      "text/plain": [
       "<Figure size 432x288 with 1 Axes>"
      ]
     },
     "metadata": {},
     "output_type": "display_data"
    }
   ],
   "source": [
    "G=nx.Graph()\n",
    "\n",
    "for i in EDGES1 :\n",
    "    G.add_edge(i[0],i[1],color='r',weight=2)\n",
    "    \n",
    "for j in EDGES2 :\n",
    "    G.add_edge(j[0],j[1],color='b',weight=2)\n",
    "\n",
    "edges = G.edges()\n",
    "colors = [G[u][v]['color'] for u,v in edges]\n",
    "weights = [G[u][v]['weight'] for u,v in edges]\n",
    "\n",
    "nx.draw(G,with_labels=True,  edges=edges, edge_color=colors, width=weights)\n"
   ]
  },
  {
   "cell_type": "markdown",
   "metadata": {},
   "source": [
    "# Analyse du génome de Yersinia pestis CO92"
   ]
  },
  {
   "cell_type": "markdown",
   "metadata": {},
   "source": [
    "## Importation des données générées sur R"
   ]
  },
  {
   "cell_type": "code",
   "execution_count": 17,
   "metadata": {},
   "outputs": [],
   "source": [
    "data = pd.read_csv('data_V3.txt', sep=\"\\t\")"
   ]
  },
  {
   "cell_type": "code",
   "execution_count": 31,
   "metadata": {},
   "outputs": [
    {
     "data": {
      "text/html": [
       "<div>\n",
       "<style scoped>\n",
       "    .dataframe tbody tr th:only-of-type {\n",
       "        vertical-align: middle;\n",
       "    }\n",
       "\n",
       "    .dataframe tbody tr th {\n",
       "        vertical-align: top;\n",
       "    }\n",
       "\n",
       "    .dataframe thead th {\n",
       "        text-align: right;\n",
       "    }\n",
       "</style>\n",
       "<table border=\"1\" class=\"dataframe\">\n",
       "  <thead>\n",
       "    <tr style=\"text-align: right;\">\n",
       "      <th></th>\n",
       "      <th>ID</th>\n",
       "      <th>QAStart</th>\n",
       "      <th>QEnd</th>\n",
       "      <th>SAStart</th>\n",
       "      <th>SEnd</th>\n",
       "    </tr>\n",
       "  </thead>\n",
       "  <tbody>\n",
       "    <tr>\n",
       "      <th>1</th>\n",
       "      <td>1</td>\n",
       "      <td>1</td>\n",
       "      <td>168094</td>\n",
       "      <td>403127</td>\n",
       "      <td>571184</td>\n",
       "    </tr>\n",
       "    <tr>\n",
       "      <th>2</th>\n",
       "      <td>2</td>\n",
       "      <td>3347618</td>\n",
       "      <td>3518980</td>\n",
       "      <td>3774352</td>\n",
       "      <td>3945667</td>\n",
       "    </tr>\n",
       "    <tr>\n",
       "      <th>3</th>\n",
       "      <td>3</td>\n",
       "      <td>4237466</td>\n",
       "      <td>4385991</td>\n",
       "      <td>4502860</td>\n",
       "      <td>4651368</td>\n",
       "    </tr>\n",
       "    <tr>\n",
       "      <th>4</th>\n",
       "      <td>4</td>\n",
       "      <td>733701</td>\n",
       "      <td>863866</td>\n",
       "      <td>1147883</td>\n",
       "      <td>1278062</td>\n",
       "    </tr>\n",
       "    <tr>\n",
       "      <th>5</th>\n",
       "      <td>5</td>\n",
       "      <td>1108765</td>\n",
       "      <td>1237970</td>\n",
       "      <td>1504695</td>\n",
       "      <td>1633867</td>\n",
       "    </tr>\n",
       "  </tbody>\n",
       "</table>\n",
       "</div>"
      ],
      "text/plain": [
       "   ID  QAStart     QEnd  SAStart     SEnd\n",
       "1   1        1   168094   403127   571184\n",
       "2   2  3347618  3518980  3774352  3945667\n",
       "3   3  4237466  4385991  4502860  4651368\n",
       "4   4   733701   863866  1147883  1278062\n",
       "5   5  1108765  1237970  1504695  1633867"
      ]
     },
     "execution_count": 31,
     "metadata": {},
     "output_type": "execute_result"
    }
   ],
   "source": [
    "data.head()"
   ]
  },
  {
   "cell_type": "code",
   "execution_count": 41,
   "metadata": {},
   "outputs": [
    {
     "name": "stdout",
     "output_type": "stream",
     "text": [
      "/bin/sh: -c: line 0: syntax error near unexpected token `'dot_matrix_v3.png''\r\n",
      "/bin/sh: -c: line 0: `[title]('dot_matrix_v3.png')'\r\n"
     ]
    }
   ],
   "source": [
    "![title]('dot_matrix_v3.png')"
   ]
  },
  {
   "cell_type": "markdown",
   "metadata": {},
   "source": [
    "## Recherche des arc"
   ]
  },
  {
   "cell_type": "markdown",
   "metadata": {},
   "source": [
    "### Recherche des arcs pour l'organisme de référence "
   ]
  },
  {
   "cell_type": "code",
   "execution_count": 23,
   "metadata": {},
   "outputs": [],
   "source": [
    "def find_edges_orga_ref(S,E):\n",
    "    \"\"\"Cette fonction permet de chercher les arcs pour sur le chromosime de l'oganisme de référence. Chaque\n",
    "    gène a deux voisins. Ainsi pour chaque gène, la fonction `find_edges_orga_ref` calcule la distance entre la fin \n",
    "    du gène courant et le début de tous les autres gènes. Le voisin du gène courant est finalement celui dont la\n",
    "    distance est minimal. Sachant que nous chromosome circulaire le début du premier gène est nécessairement voisin\n",
    "    de la fin du dernier, ceci constitue donc une arc.\"\"\"\n",
    "    \n",
    "    l = []\n",
    "    max_l  = max(E)\n",
    "    min_l = min(S)\n",
    "\n",
    "    for i in range(len(E)):\n",
    "        D = []  \n",
    "        dist =[]\n",
    "        for j in range(len(S)):\n",
    "            if  E.index(E[i])!= S.index(S[j])  :\n",
    "                if E[i] != max_l and S[j] != min_l : \n",
    "                    d =abs( E[i]- S[j]) \n",
    "                    D.append([d, E[i], S[j] , 'E' ,  'S' ])  \n",
    "                    dist.append(d) \n",
    "              \n",
    "                else :\n",
    "                    p1 = list(data[\"ID\"][data[\"QEnd\"]==max_l] )[0]\n",
    "                    p1 = \"E\"+str(p1)\n",
    "                    p2 = list(data[\"ID\"][data['QAStart']==min_l] )[0]\n",
    "                    p2 = \"S\"+str(p2)\n",
    "                    if (p1, p2) not in l and (p2, p1) not in l:\n",
    "                        l.append((p1 ,p2) )                      \n",
    "            else :\n",
    "                D.append(['NA', 'NA', 'NA', \"NA\", 'NA'])\n",
    "                dist.append('NA')        \n",
    "   \n",
    "        minD_ID = D[dist.index(min(dist))]  \n",
    "        if 'NA' not in minD_ID :\n",
    "            p1 = list(data[\"ID\"][data[\"QEnd\"]==minD_ID[1]])[0]\n",
    "            p2 = list(data[\"ID\"][data[\"QAStart\"]== minD_ID[2]])[0]\n",
    "            if p1 != p2 :\n",
    "                p1 = \"E\"+str(p1)\n",
    "                p2 = \"S\"+str(p2)\n",
    "                if  (p1, p2) not in l and (p2, p1) not in l:\n",
    "                    l.append((p1 ,p2) )\n",
    "        \n",
    "    return l"
   ]
  },
  {
   "cell_type": "markdown",
   "metadata": {},
   "source": [
    "####  Application"
   ]
  },
  {
   "cell_type": "code",
   "execution_count": 25,
   "metadata": {},
   "outputs": [
    {
     "name": "stdout",
     "output_type": "stream",
     "text": [
      "[('E1', 'S8'), ('E12', 'S1'), ('E2', 'S10'), ('E3', 'S12'), ('E4', 'S5'), ('E5', 'S4'), ('E6', 'S9'), ('E7', 'S11'), ('E8', 'S14'), ('E9', 'S2'), ('E10', 'S15'), ('E11', 'S7'), ('E13', 'S15'), ('E14', 'S4'), ('E15', 'S13')]\n"
     ]
    }
   ],
   "source": [
    "EDGES1 = find_edges_orga_ref(list(data[\"QAStart\"]), list(data[\"QEnd\"]))\n",
    "print(EDGES1)"
   ]
  },
  {
   "cell_type": "markdown",
   "metadata": {},
   "source": [
    "### Recherche des arcs pour l'organisme d'intérêt"
   ]
  },
  {
   "cell_type": "code",
   "execution_count": 27,
   "metadata": {},
   "outputs": [],
   "source": [
    "def find_edges(S,E):\n",
    "    \"\"\"Recherche des arcs dans l'organisme d'intérêt. Nous avons choisi de rechercher pour chaque extrémité (SStart_i ou SEnd_i)\n",
    "    quel est son voisin le plus proche, par recherche de la distance minimale. Cette méthode nous permet d'obtenir une liste\n",
    "    des arcs entre les extrémité (Start -> Start) ou (End -> End) ou (Start -> End). Aucun aucune arc ne relier les extrémités \n",
    "    d'un même gène. Le position miniamle est nécessairement reliée à la position maximale étant donné que nous étudions\n",
    "    des génomes circulaires.\"\"\"\n",
    "    \n",
    "    l = []\n",
    "    t= S+E\n",
    "    max_l  = max(t)\n",
    "    max_lID  = t.index(max_l)\n",
    "    if max_lID < len(t)/2 :\n",
    "        state_maxl = \"S\"\n",
    "    else :\n",
    "        state_maxl = \"E\"\n",
    "\n",
    "    min_l = min(t)\n",
    "   \n",
    "    min_lID  = t.index(min_l)\n",
    "    if min_lID < len(t)/2 :\n",
    "        state_minl = \"S\"\n",
    "    else :\n",
    "        state_minl = \"E\"\n",
    "        \n",
    "    T = []\n",
    "    for i in range(len(t)):\n",
    "        if i < len(t)/2 :\n",
    "            T.append([t[i],'S'])\n",
    "        else :\n",
    "            T.append([t[i],'E'])\n",
    "            \n",
    "   \n",
    "    for i in range(len(t)):\n",
    "        D = []  \n",
    "        dist =[]\n",
    "        for j in range(len(t)):\n",
    "            if t.index(t[i]) + len(t)/2!= t.index(t[j]) and t.index(t[i])!= t.index(t[j])  :\n",
    "                if t[i] != max_l and t[i] != min_l and t[j] != max_l and t[j] != min_l : \n",
    "                    d =abs( t[j]- t[i]) \n",
    "                    D.append([d, t[j], t[i] ,T[j][1] ,  T[i][1] ])  \n",
    "                    dist.append(d) \n",
    "              \n",
    "                else :\n",
    "                   \n",
    "                    if state_maxl ==\"E\" and state_minl == \"S\" :\n",
    "                        p1 = list(data[\"ID\"][data[\"SEnd\"]==max_l] )[0]\n",
    "                        p1 = \"E\"+str(p1)\n",
    "                        p2 = list(data[\"ID\"][data['SAStart']==min_l] )[0]\n",
    "                        p2 = \"S\"+str(p2)\n",
    "                        if (p1, p2) not in l and (p2, p1) not in l:\n",
    "                            l.append((p1 ,p2) )\n",
    "                    elif state_maxl ==\"S\" and state_minl == \"E\" :\n",
    "                        p1 = list(data[\"ID\"][data[\"SAStart\"]==max_l] )[0]\n",
    "                        p1 = \"S\"+str(p1)\n",
    "                        p2 = list(data[\"ID\"][data['SEnd']==min_l] )[0]\n",
    "                        p2 = \"E\"+str(p2)\n",
    "                        if (p1, p2) not in l and (p2, p1) not in l:\n",
    "                            l.append((p1 ,p2) )\n",
    "                    elif state_maxl ==\"S\" and state_minl == \"S\" :\n",
    "                        p1 = list(data[\"ID\"][data[\"SAStart\"]==max_l] )[0]\n",
    "                        p1 = \"S\"+str(P1)\n",
    "                        p2 = list(data[\"ID\"][data['SAStart']==min_l] )[0]\n",
    "                        p2 = \"S\"+str(P2)\n",
    "                        if  (p1, p2) not in l and (p2, p1) not in l:\n",
    "                            l.append((p1 ,p2) )\n",
    "                    else :\n",
    "                        p1 = list(data[\"ID\"][data[\"SEnd\"]==max_l] )[0]\n",
    "                        p1 = \"E\"+str(p1)\n",
    "                        p2 = list(data[\"ID\"][data['SEnd']==min_l] )[0]\n",
    "                        p2 = \"E\"+str(p2)\n",
    "                        if  (p1, p2) not in l and (p2, p1)not in l:\n",
    "                            l.append((p1 ,p2) )\n",
    "                    \n",
    "            else :\n",
    "                D.append(['NA', 'NA', 'NA', \"NA\", 'NA'])\n",
    "                dist.append('NA')\n",
    "   \n",
    "        minD_ID = D[dist.index(min(dist))]\n",
    "        if 'NA' not in minD_ID :   \n",
    "            if  minD_ID[3] == 'E' and minD_ID[4] == 'S' :\n",
    "                p1 = list(data[\"ID\"][data[\"SEnd\"]==minD_ID[1]])[0]\n",
    "                p2 = list(data[\"ID\"][data[\"SAStart\"]== minD_ID[2]])[0]\n",
    "                if p1 != p2 :\n",
    "                    p1 = \"E\"+str(p1)\n",
    "                    p2 = \"S\"+str(p2)\n",
    "                    if  (p1, p2) not in l and (p2, p1) not in l:\n",
    "                        l.append((p1 ,p2) )\n",
    "            elif minD_ID[3] == 'S' and minD_ID[4] == 'E' :\n",
    "                p1 = list(data[\"ID\"][data[\"SAStart\"]==minD_ID[1]])[0]\n",
    "                p2 = list(data[\"ID\"][data[\"SEnd\"]== minD_ID[2]])[0]\n",
    "                if p1 != p2 :\n",
    "                    p1 = \"S\"+str(p1)\n",
    "                    p2 = \"E\"+str(p2)\n",
    "                    if  (p1, p2) not in l and (p2, p1) not in l:\n",
    "                        l.append((p1 ,p2) )\n",
    "            elif minD_ID[3] == 'S' and minD_ID[4] == 'S' :\n",
    "                p1 = list(data[\"ID\"][data[\"SAStart\"]==minD_ID[1]])[0]\n",
    "                p2 = list(data[\"ID\"][data[\"SAStart\"]== minD_ID[2]])[0]\n",
    "                if p1 != p2 :\n",
    "                    p1 = \"S\"+str(p1)\n",
    "                    p2 = \"S\"+str(p2)\n",
    "                    if  (p1, p2) not in l and (p2, p1) not in l:\n",
    "                        l.append((p1 ,p2) )\n",
    "            else :\n",
    "                p1 = list(data[\"ID\"][data[\"SEnd\"]==minD_ID[1]])[0]\n",
    "                p2 = list(data[\"ID\"][data[\"SEnd\"]== minD_ID[2]])[0]\n",
    "                if p1 != p2 :\n",
    "                    p1 = \"E\"+str(p1)\n",
    "                    p2 = \"E\"+str(p2)\n",
    "                    if  (p1, p2) not in l and (p2, p1) not in l:\n",
    "                        l.append((p1 ,p2) )\n",
    "\n",
    "\n",
    "        \n",
    "    return l"
   ]
  },
  {
   "cell_type": "markdown",
   "metadata": {},
   "source": [
    "#### Application"
   ]
  },
  {
   "cell_type": "code",
   "execution_count": 29,
   "metadata": {},
   "outputs": [
    {
     "name": "stdout",
     "output_type": "stream",
     "text": [
      "[('E3', 'S15'), ('S8', 'S1'), ('E9', 'S2'), ('E10', 'S3'), ('E13', 'S4'), ('S14', 'S5'), ('S9', 'S6'), ('S11', 'S7'), ('E1', 'S8'), ('S2', 'S9'), ('S12', 'S10'), ('E7', 'S11'), ('E2', 'S12'), ('E4', 'S13'), ('E5', 'S14'), ('E12', 'E2'), ('S1', 'E15')]\n"
     ]
    }
   ],
   "source": [
    "EDGES2 = find_edges(list(data[\"SAStart\"]), list(data[\"SEnd\"]))\n",
    "print(EDGES2)"
   ]
  },
  {
   "cell_type": "markdown",
   "metadata": {},
   "source": [
    "###  Réprésentation du graph "
   ]
  },
  {
   "cell_type": "code",
   "execution_count": 92,
   "metadata": {},
   "outputs": [
    {
     "data": {
      "image/png": "[encoded data removed]",
      "text/plain": [
       "<Figure size 432x288 with 1 Axes>"
      ]
     },
     "metadata": {},
     "output_type": "display_data"
    }
   ],
   "source": [
    "G=nx.Graph()\n",
    "\n",
    "for i in EDGES1 :\n",
    "    G.add_edge(i[0],i[1],color='r', length = 10)\n",
    "    \n",
    "for j in EDGES2 :\n",
    "    G.add_edge(j[0],j[1],color='b', length = 10)\n",
    "\n",
    "edges = G.edges()\n",
    "colors = [G[u][v]['color'] for u,v in edges]\n",
    "weights = [G[u][v]['length'] for u,v in edges]\n",
    "\n",
    "pos = nx.spring_layout(G)\n",
    "nx.draw(G, pos, edge_color=colors, weigths=weights, with_labels=True)\n",
    "\n"
   ]
  },
  {
   "cell_type": "code",
   "execution_count": null,
   "metadata": {},
   "outputs": [],
   "source": []
  }
 ],
 "metadata": {
  "kernelspec": {
   "display_name": "Python 2",
   "language": "python",
   "name": "python2"
  },
  "language_info": {
   "codemirror_mode": {
    "name": "ipython",
    "version": 2
   },
   "file_extension": ".py",
   "mimetype": "text/x-python",
   "name": "python",
   "nbconvert_exporter": "python",
   "pygments_lexer": "ipython2",
   "version": "2.7.15"
  }
 },
 "nbformat": 4,
 "nbformat_minor": 2
}

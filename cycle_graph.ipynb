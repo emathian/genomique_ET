{
 "cells": [
  {
   "cell_type": "markdown",
   "metadata": {},
   "source": [
    "#  Librairies "
   ]
  },
  {
   "cell_type": "code",
   "execution_count": 187,
   "metadata": {},
   "outputs": [],
   "source": [
    "import pandas as pd\n",
    "import numpy as np\n",
    "import matplotlib.pyplot as plt\n",
    "import networkx as nx\n",
    "import itertools\n",
    "import random\n",
    "from networkx.drawing.nx_agraph import graphviz_layout\n",
    "from __future__ import division \n",
    "from operator import itemgetter\n",
    "from itertools import count\n",
    "from networkx.drawing.nx_pydot import write_dot\n",
    "from IPython.display import Image\n",
    "import pylab"
   ]
  },
  {
   "cell_type": "markdown",
   "metadata": {},
   "source": [
    "# Exemple jouet"
   ]
  },
  {
   "cell_type": "markdown",
   "metadata": {},
   "source": [
    "Afin de faciliter l'écriture des algorithmes et afin de vérifier leur pertinence nous avons généré un jeu de données, pour lequel la recherche du nombre d'inversions est triviale. Cet exemple peut être résumé tel que : \n",
    "* Organisme A : (+)A  - (+)B - (+)C - (+)D - (+)E\n",
    "* Organisme B : (-)D  - (-)C - (+)A - (+)B - (+)E  \n",
    "\n",
    "Le signe (+) implique que la position du début du gène est inféfieure à celle de la fin, et réciproquement pour le signe (-).\n",
    "\n",
    "## Construction de la matrice"
   ]
  },
  {
   "cell_type": "code",
   "execution_count": 272,
   "metadata": {},
   "outputs": [
    {
     "name": "stdout",
     "output_type": "stream",
     "text": [
      "  ID  Qend  Qstart\n",
      "0  A     1       0\n",
      "1  B     3       2\n",
      "2  C     5       4\n",
      "3  D     7       6\n",
      "4  E     9       8\n",
      "  ID  Send  Sstart\n",
      "3  D     0       1\n",
      "2  C     2       3\n",
      "0  A     5       4\n",
      "1  B     7       6\n",
      "4  E     9       8\n"
     ]
    }
   ],
   "source": [
    "d_ref_jouet = {'ID': [\"A\", \"B\", \"C\",\"D\",\"E\"], 'Qstart': [0, 2,4,6, 8],'Qend': [1, 3,5,7,9]  }\n",
    "d_int_jouet = {'ID': [\"A\", \"B\", \"C\",\"D\",\"E\"], 'Sstart': [4,6,3,1, 8], 'Send': [5, 7,2,0, 9] }\n",
    "d_ref_jouet=  pd.DataFrame(data=d_ref_jouet)\n",
    "d_int_jouet=  pd.DataFrame(data=d_int_jouet)\n",
    "d_int_jouet= d_int_jouet.sort_values('Sstart')\n",
    "print(d_ref_jouet)\n",
    "print(d_int_jouet)"
   ]
  },
  {
   "cell_type": "markdown",
   "metadata": {},
   "source": [
    "## Recherche des arcs"
   ]
  },
  {
   "cell_type": "code",
   "execution_count": 303,
   "metadata": {},
   "outputs": [],
   "source": [
    "def find_edges(d, ref):\n",
    "    \"\"\"Cette fonction permet de chercher les arcs, soit les gènes adjacents sur un chromosome. Cette fonction prend en\n",
    "    argument  la matrices des positions de début et de fin, de chaque segement orthologue. Cette matrice doit être triée\n",
    "    selon les positions de début. Pour chaque gène, la fonction `find_edge`, détermine la 'fin' de l'arc comme étant la position\n",
    "    maximale du gène courant (i) et détermine le début de cette arc comme la position minimale du gène suivant (i+1). Enfin étant \n",
    "    donné que nous étudions des chromosomes bactériens, une arc doit être crée entre la position minimale du premier gène et la\n",
    "    position maximale du dernier gène.\"\"\"\n",
    "    \n",
    "    # Définition des colonnes (d'après notre fonction les noms de colonnes de tableau sont fixés)\n",
    "    if ref == True :\n",
    "        start_column = \"Qstart\"\n",
    "        end_column = \"Qend\"\n",
    "        S = list(d[\"Qstart\"])\n",
    "        E = list(d[\"Qend\"])\n",
    "    else :\n",
    "        start_column = \"Sstart\"\n",
    "        end_column = \"Send\"\n",
    "        S = list(d[\"Sstart\"])\n",
    "        E = list(d[\"Send\"])\n",
    "        \n",
    "    l = []\n",
    "    for i in range(len(E)):\n",
    "        # Définition de la position de fin\n",
    "        max_c = max(E[i], S[i])\n",
    "        if max_c == E[i]:\n",
    "            status_begin = \"E\"\n",
    "        else: \n",
    "            status_begin = \"S\"\n",
    "            \n",
    "        if i < len(E)-1 :  \n",
    "            # Définition de la position de début\n",
    "            min_suiv = min(E[i+1], S[i+1])\n",
    "            if min_suiv == E[i+1]:\n",
    "                status_end = \"E\"\n",
    "            else: \n",
    "                status_end = \"S\"\n",
    "            \n",
    "            # Recherche des IDs correspondant au maximum et au minimum\n",
    "            # ID du début\n",
    "            if status_begin == \"E\":\n",
    "                begin_ID = list(d[\"ID\"][d[end_column]==max_c] )[0] \n",
    "                name_beg = status_begin + str(begin_ID)\n",
    "                \n",
    "            else :\n",
    "                begin_ID = list(d[\"ID\"][d[start_column]==max_c] )[0]\n",
    "                name_beg = status_begin + str(begin_ID)\n",
    "                \n",
    "                \n",
    "            # ID de fin\n",
    "            if status_end == \"E\":\n",
    "                end_ID = list(d[\"ID\"][d[end_column]==min_suiv] )[0] \n",
    "                name_end = status_end + str(end_ID)\n",
    "                \n",
    "            else :\n",
    "                end_ID = list(d[\"ID\"][d[start_column]==min_suiv] )[0]\n",
    "                name_end = status_end + str(end_ID)\n",
    "                \n",
    "            # Ajout du résultat\n",
    "            l.append((name_beg, name_end))\n",
    "\n",
    "        # Pour l'arc entre la position min et max\n",
    "        else :\n",
    "            # Position maximale\n",
    "            max_last = max(E[-1],S[-1])\n",
    "            if max_last == S[-1]:\n",
    "                status_max_last = \"S\"\n",
    "            else :\n",
    "                status_max_last = \"E\"   \n",
    "            min_first = min(E[0],S[0])\n",
    "            \n",
    "            # Position minimale\n",
    "            if min_first == S[0]:\n",
    "                status_min_first = \"S\"\n",
    "            else :\n",
    "                status_min_first = \"E\" \n",
    "            # Recherche des IDs \n",
    "            if status_max_last == \"E\":\n",
    "                begin_ID = list(d[\"ID\"][d[end_column]==max_last] )[0] \n",
    "                name_beg = status_max_last + str(begin_ID)\n",
    "            else :\n",
    "                begin_ID = list(d[\"ID\"][d[start_column]==max_last] )[0]\n",
    "                name_beg = status_max_last + str(begin_ID)\n",
    "                \n",
    "            if status_min_first == \"E\":\n",
    "                begin_ID = list(d[\"ID\"][d[end_column]==min_first] )[0] \n",
    "                name_end = status_min_first + str(begin_ID)\n",
    "            else :\n",
    "                begin_ID = list(d[\"ID\"][d[start_column]==min_first] )[0]\n",
    "                name_end = status_min_first + str(begin_ID)\n",
    "                \n",
    "             # Ajout du résultat\n",
    "            l.append((name_beg, name_end))\n",
    "            \n",
    "            \n",
    "    return l"
   ]
  },
  {
   "cell_type": "markdown",
   "metadata": {},
   "source": [
    "#### Exemple :"
   ]
  },
  {
   "cell_type": "code",
   "execution_count": 304,
   "metadata": {},
   "outputs": [
    {
     "name": "stdout",
     "output_type": "stream",
     "text": [
      "[('EA', 'SB'), ('EB', 'SC'), ('EC', 'SD'), ('ED', 'SE'), ('EE', 'SA')]\n",
      "[('SD', 'EC'), ('SC', 'SA'), ('EA', 'SB'), ('EB', 'SE'), ('EE', 'ED')]\n"
     ]
    }
   ],
   "source": [
    "data_ref = d_ref_jouet\n",
    "data_int = d_int_jouet\n",
    "EDGES1 = find_edges(data_ref, True)\n",
    "EDGES2 = find_edges(data_int, False)\n",
    "print(EDGES1)\n",
    "print(EDGES2)"
   ]
  },
  {
   "cell_type": "markdown",
   "metadata": {},
   "source": [
    "##  Réprésentation du graph du  jeu de données  jouet "
   ]
  },
  {
   "cell_type": "code",
   "execution_count": 214,
   "metadata": {},
   "outputs": [
    {
     "data": {
      "image/png": "[encoded data removed]",
      "text/plain": [
       "<Figure size 504x504 with 1 Axes>"
      ]
     },
     "metadata": {},
     "output_type": "display_data"
    }
   ],
   "source": [
    "pylab.figure(1,figsize=(7,7))\n",
    "G=nx.Graph()\n",
    "\n",
    "for i in EDGES1 :\n",
    "    G.add_edge(i[0],i[1],color='r')\n",
    "    \n",
    "for j in EDGES2 :\n",
    "    G.add_edge(j[0],j[1],color='b')\n",
    "\n",
    "edges = G.edges()\n",
    "colors = [G[u][v]['color'] for u,v in edges]\n",
    "pos = nx.spring_layout(G, scale=5)\n",
    "for i in pos:\n",
    "        pos[i][0] = pos[i][0] * 4 # x coordinate\n",
    "        pos[i][1] = pos[i][1] * 4 # y coordinate\n",
    "        \n",
    "nx.draw(G, pos, edge_color=colors,  with_labels=True, font_size=14)"
   ]
  },
  {
   "cell_type": "markdown",
   "metadata": {},
   "source": [
    "## Calcul du nombre de cycles"
   ]
  },
  {
   "cell_type": "code",
   "execution_count": 215,
   "metadata": {},
   "outputs": [],
   "source": [
    "Composantes_connexes =[len(c) for c in sorted(nx.connected_components(G), key=len, reverse=True)]"
   ]
  },
  {
   "cell_type": "code",
   "execution_count": 216,
   "metadata": {},
   "outputs": [
    {
     "name": "stdout",
     "output_type": "stream",
     "text": [
      "3\n"
     ]
    }
   ],
   "source": [
    "Nb_cycles = len(Composantes_connexes)\n",
    "print(Nb_cycles)"
   ]
  },
  {
   "cell_type": "markdown",
   "metadata": {},
   "source": [
    "## Nombre d'inversions"
   ]
  },
  {
   "cell_type": "code",
   "execution_count": 217,
   "metadata": {},
   "outputs": [
    {
     "name": "stdout",
     "output_type": "stream",
     "text": [
      "2\n"
     ]
    }
   ],
   "source": [
    "Nb_inv = len(d_ref_jouet[\"Qstart\"]) - Nb_cycles\n",
    "print(Nb_inv)"
   ]
  },
  {
   "cell_type": "markdown",
   "metadata": {},
   "source": [
    "**Remarque :**\n",
    "    Le nombre de cycles correspond au nombre de composantes connexes."
   ]
  },
  {
   "cell_type": "markdown",
   "metadata": {},
   "source": [
    "## Inversions aléatoires"
   ]
  },
  {
   "cell_type": "code",
   "execution_count": 316,
   "metadata": {},
   "outputs": [],
   "source": [
    "def scenari_aleatoire (QS, QE, SS, SE, inv_obs ,n):\n",
    "    \"\"\" Cette fonction génère des positions aléatoires pour le génome de reférence (Q), et pour le génome d'intérêt (S).\n",
    "    Puis elle calcule le graph correspndant, à partir de celui-ci, elle infère le nombre d'inversions.\n",
    "    Cette opération est répétée n fois. Enfin elle retourne la proportion de graphs aléatoirement aléatoirement\n",
    "    générés qui permettent d'obtenir un nombre d'inversions inférieur à celui observé (inv_obs) \"\"\"\n",
    "    \n",
    "    inv_alea= []\n",
    "    for i in range(n):\n",
    "        T1 = QS+QE\n",
    "        random.shuffle(T1)\n",
    "        QSshuffled = T1 [:int(len(T1)/2)]\n",
    "        QEshuflled = T1[int(len(T1)/2) :]\n",
    "        data_ref = {'Qstart': QSshuffled,'Qend': QEshuflled  }\n",
    "        data_ref =  pd.DataFrame(data=data_ref)\n",
    "        data_ref = data_ref.sort_values('Qstart')\n",
    "        data_ref[\"ID\"]= range(0, len(QSshuffled))\n",
    "        \n",
    "        T2 = SS+SE\n",
    "        random.shuffle(T2)\n",
    "        SSshuffled = T2 [:int(len(T2)/2)]\n",
    "        SEshuflled = T2[int(len(T2)/2) :]\n",
    "        data_int = {'Sstart': SSshuffled,'Send': SEshuflled  }\n",
    "        data_int =  pd.DataFrame(data=data_int)\n",
    "        data_int = data_int.sort_values('Sstart')\n",
    "        data_int[\"ID\"] = data_ref['ID']\n",
    "            \n",
    "     \n",
    "        \n",
    "        EDGES1 = find_edges(data_ref, True)\n",
    "        EDGES2 = find_edges(data_int, False)\n",
    "        \n",
    "        G=nx.Graph()\n",
    "        for i in EDGES1 :\n",
    "            G.add_edge(i[0],i[1],color='r')\n",
    "        for j in EDGES2 :\n",
    "            G.add_edge(j[0],j[1],color='b')\n",
    "        Composantes_connexes =[len(c) for c in sorted(nx.connected_components(G), key=len, reverse=True)]\n",
    "        Nb_cycles = len(Composantes_connexes)\n",
    "        Nb_inv = len(d_ref_jouet[\"Qstart\"]) - Nb_cycles\n",
    "        inv_alea.append(Nb_inv)\n",
    "    c =0\n",
    "    for i in range(n):\n",
    "        if i < inv_obs:\n",
    "            c +=1\n",
    "    p = c/n\n",
    "    return  p\n"
   ]
  },
  {
   "cell_type": "code",
   "execution_count": 317,
   "metadata": {},
   "outputs": [
    {
     "data": {
      "text/plain": [
       "0.1"
      ]
     },
     "execution_count": 317,
     "metadata": {},
     "output_type": "execute_result"
    }
   ],
   "source": [
    "scenari_aleatoire (list(data_ref[\"Qstart\"]), list(data_ref[\"Qend\"]), list(data_int[\"Sstart\"]), list(data_int[\"Send\"]),Nb_inv  ,20)"
   ]
  },
  {
   "cell_type": "markdown",
   "metadata": {},
   "source": [
    "# Analyse du génome de Yersinia pestis CO92"
   ]
  },
  {
   "cell_type": "markdown",
   "metadata": {},
   "source": [
    "## Importation des données générées sur R"
   ]
  },
  {
   "cell_type": "code",
   "execution_count": 330,
   "metadata": {},
   "outputs": [
    {
     "data": {
      "text/html": [
       "<div>\n",
       "<style scoped>\n",
       "    .dataframe tbody tr th:only-of-type {\n",
       "        vertical-align: middle;\n",
       "    }\n",
       "\n",
       "    .dataframe tbody tr th {\n",
       "        vertical-align: top;\n",
       "    }\n",
       "\n",
       "    .dataframe thead th {\n",
       "        text-align: right;\n",
       "    }\n",
       "</style>\n",
       "<table border=\"1\" class=\"dataframe\">\n",
       "  <thead>\n",
       "    <tr style=\"text-align: right;\">\n",
       "      <th></th>\n",
       "      <th>Qstart</th>\n",
       "      <th>Qend</th>\n",
       "      <th>ID</th>\n",
       "    </tr>\n",
       "  </thead>\n",
       "  <tbody>\n",
       "    <tr>\n",
       "      <th>0</th>\n",
       "      <td>1</td>\n",
       "      <td>168094</td>\n",
       "      <td>1</td>\n",
       "    </tr>\n",
       "    <tr>\n",
       "      <th>1</th>\n",
       "      <td>176363</td>\n",
       "      <td>249866</td>\n",
       "      <td>2</td>\n",
       "    </tr>\n",
       "    <tr>\n",
       "      <th>2</th>\n",
       "      <td>452842</td>\n",
       "      <td>456700</td>\n",
       "      <td>3</td>\n",
       "    </tr>\n",
       "    <tr>\n",
       "      <th>3</th>\n",
       "      <td>514062</td>\n",
       "      <td>518989</td>\n",
       "      <td>4</td>\n",
       "    </tr>\n",
       "    <tr>\n",
       "      <th>4</th>\n",
       "      <td>733701</td>\n",
       "      <td>863866</td>\n",
       "      <td>5</td>\n",
       "    </tr>\n",
       "  </tbody>\n",
       "</table>\n",
       "</div>"
      ],
      "text/plain": [
       "   Qstart    Qend  ID\n",
       "0       1  168094   1\n",
       "1  176363  249866   2\n",
       "2  452842  456700   3\n",
       "3  514062  518989   4\n",
       "4  733701  863866   5"
      ]
     },
     "execution_count": 330,
     "metadata": {},
     "output_type": "execute_result"
    }
   ],
   "source": [
    "data_ref = pd.read_csv('data_orga_ref.txt', sep=\"\\t\")\n",
    "data_ref.head()"
   ]
  },
  {
   "cell_type": "code",
   "execution_count": 331,
   "metadata": {},
   "outputs": [
    {
     "data": {
      "text/html": [
       "<div>\n",
       "<style scoped>\n",
       "    .dataframe tbody tr th:only-of-type {\n",
       "        vertical-align: middle;\n",
       "    }\n",
       "\n",
       "    .dataframe tbody tr th {\n",
       "        vertical-align: top;\n",
       "    }\n",
       "\n",
       "    .dataframe thead th {\n",
       "        text-align: right;\n",
       "    }\n",
       "</style>\n",
       "<table border=\"1\" class=\"dataframe\">\n",
       "  <thead>\n",
       "    <tr style=\"text-align: right;\">\n",
       "      <th></th>\n",
       "      <th>Sstart</th>\n",
       "      <th>Send</th>\n",
       "      <th>ID</th>\n",
       "    </tr>\n",
       "  </thead>\n",
       "  <tbody>\n",
       "    <tr>\n",
       "      <th>0</th>\n",
       "      <td>110552</td>\n",
       "      <td>113114</td>\n",
       "      <td>18</td>\n",
       "    </tr>\n",
       "    <tr>\n",
       "      <th>1</th>\n",
       "      <td>403127</td>\n",
       "      <td>571184</td>\n",
       "      <td>1</td>\n",
       "    </tr>\n",
       "    <tr>\n",
       "      <th>2</th>\n",
       "      <td>581356</td>\n",
       "      <td>654841</td>\n",
       "      <td>2</td>\n",
       "    </tr>\n",
       "    <tr>\n",
       "      <th>3</th>\n",
       "      <td>834860</td>\n",
       "      <td>838718</td>\n",
       "      <td>3</td>\n",
       "    </tr>\n",
       "    <tr>\n",
       "      <th>4</th>\n",
       "      <td>1147883</td>\n",
       "      <td>1278062</td>\n",
       "      <td>5</td>\n",
       "    </tr>\n",
       "  </tbody>\n",
       "</table>\n",
       "</div>"
      ],
      "text/plain": [
       "    Sstart     Send  ID\n",
       "0   110552   113114  18\n",
       "1   403127   571184   1\n",
       "2   581356   654841   2\n",
       "3   834860   838718   3\n",
       "4  1147883  1278062   5"
      ]
     },
     "execution_count": 331,
     "metadata": {},
     "output_type": "execute_result"
    }
   ],
   "source": [
    "data_interest = pd.read_csv('data_orga_interest.txt', sep=\"\\t\")\n",
    "data_interest.head()"
   ]
  },
  {
   "cell_type": "markdown",
   "metadata": {},
   "source": [
    "## Recherche des arcs "
   ]
  },
  {
   "cell_type": "code",
   "execution_count": 324,
   "metadata": {},
   "outputs": [],
   "source": [
    "EDGES1 = find_edges(data_ref, True)\n",
    "EDGES2  = find_edges(data_interest, False)\n",
    "#EDGES1\n",
    "#EDGES2"
   ]
  },
  {
   "cell_type": "markdown",
   "metadata": {},
   "source": [
    "##  Représentation du graph "
   ]
  },
  {
   "cell_type": "code",
   "execution_count": 326,
   "metadata": {},
   "outputs": [
    {
     "data": {
      "image/png": "[encoded data removed]",
      "text/plain": [
       "<Figure size 864x864 with 1 Axes>"
      ]
     },
     "metadata": {},
     "output_type": "display_data"
    }
   ],
   "source": [
    "pylab.figure(1,figsize=(12,12))\n",
    "G=nx.Graph()\n",
    "\n",
    "for i in EDGES1 :\n",
    "    G.add_edge(i[0],i[1],color='r', length = 10)\n",
    "    \n",
    "for j in EDGES2 :\n",
    "    G.add_edge(j[0],j[1],color='b', length = 10)\n",
    "\n",
    "edges = G.edges()\n",
    "colors = [G[u][v]['color'] for u,v in edges]\n",
    "weights = [G[u][v]['length'] for u,v in edges]\n",
    "\n",
    "pos = nx.spring_layout(G, scale=5)\n",
    "for i in pos:\n",
    "        pos[i][0] = pos[i][0] * 4 # x coordinate\n",
    "        pos[i][1] = pos[i][1] * 4 # y coordinate\n",
    "        \n",
    "nx.draw(G, pos, edge_color=colors,  with_labels=True, font_size=10)\n",
    "\n"
   ]
  },
  {
   "cell_type": "markdown",
   "metadata": {},
   "source": [
    "## Calcul du nombre de cycles"
   ]
  },
  {
   "cell_type": "code",
   "execution_count": 327,
   "metadata": {},
   "outputs": [
    {
     "name": "stdout",
     "output_type": "stream",
     "text": [
      "8\n"
     ]
    }
   ],
   "source": [
    "Composantes_connexes =[len(c) for c in sorted(nx.connected_components(G), key=len, reverse=True)]\n",
    "Nb_cycles = len(Composantes_connexes)\n",
    "print(Nb_cycles)"
   ]
  },
  {
   "cell_type": "markdown",
   "metadata": {},
   "source": [
    "## Nombre d'inversions"
   ]
  },
  {
   "cell_type": "code",
   "execution_count": 329,
   "metadata": {},
   "outputs": [
    {
     "name": "stdout",
     "output_type": "stream",
     "text": [
      "13\n"
     ]
    }
   ],
   "source": [
    "Nb_inv = len(data_ref[\"Qstart\"]) - Nb_cycles\n",
    "print(Nb_inv)"
   ]
  },
  {
   "cell_type": "markdown",
   "metadata": {},
   "source": [
    "## Probabilité d'observer un tel nombre d'inversion sous l'hypothèse du hasard"
   ]
  },
  {
   "cell_type": "markdown",
   "metadata": {},
   "source": [
    "Nous pouvons décider de fixer un risque  de première espèce $\\alpha$ = 0.05"
   ]
  },
  {
   "cell_type": "code",
   "execution_count": 333,
   "metadata": {},
   "outputs": [
    {
     "data": {
      "text/plain": [
       "0.026"
      ]
     },
     "execution_count": 333,
     "metadata": {},
     "output_type": "execute_result"
    }
   ],
   "source": [
    "scenari_aleatoire (list(data_ref[\"Qstart\"]), list(data_ref[\"Qend\"]), list(data_interest[\"Sstart\"]), list(data_interest[\"Send\"]),Nb_inv  ,500)"
   ]
  },
  {
   "cell_type": "markdown",
   "metadata": {},
   "source": [
    "**Conclusion :** La probabilité d'observer moins de 8 inversions pour 21 gènes orthologes est de 0.026 (après 500 simulations). Nous pouvons rejeter l'hypothèse du hasard au risque de 5%. Les deux organismes sont aparentés"
   ]
  },
  {
   "cell_type": "code",
   "execution_count": null,
   "metadata": {},
   "outputs": [],
   "source": []
  }
 ],
 "metadata": {
  "kernelspec": {
   "display_name": "Python 2",
   "language": "python",
   "name": "python2"
  },
  "language_info": {
   "codemirror_mode": {
    "name": "ipython",
    "version": 2
   },
   "file_extension": ".py",
   "mimetype": "text/x-python",
   "name": "python",
   "nbconvert_exporter": "python",
   "pygments_lexer": "ipython2",
   "version": "2.7.15"
  }
 },
 "nbformat": 4,
 "nbformat_minor": 2
}
